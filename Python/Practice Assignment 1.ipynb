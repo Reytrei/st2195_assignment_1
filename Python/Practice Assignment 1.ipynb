{
 "cells": [
  {
   "cell_type": "markdown",
   "id": "7f3d33ea",
   "metadata": {},
   "source": [
    "#Jupyter Notebook\n",
    "\n",
    "##Practice Assignment 1\n",
    "\n",
    "Here we have the code for printing all the integer numbers from 1 to 10 in **Python**:"
   ]
  },
  {
   "cell_type": "code",
   "execution_count": 1,
   "id": "a4fbe70b",
   "metadata": {},
   "outputs": [
    {
     "name": "stdout",
     "output_type": "stream",
     "text": [
      "[1, 2, 3, 4, 5, 6, 7, 8, 9, 10]\n"
     ]
    }
   ],
   "source": [
    "a = [1,2,3,4,5,6,7,8,9,10]\n",
    "print(a)"
   ]
  },
  {
   "cell_type": "markdown",
   "id": "d62093dc",
   "metadata": {},
   "source": []
  }
 ],
 "metadata": {
  "kernelspec": {
   "display_name": "Python 3",
   "language": "python",
   "name": "python3"
  },
  "language_info": {
   "codemirror_mode": {
    "name": "ipython",
    "version": 3
   },
   "file_extension": ".py",
   "mimetype": "text/x-python",
   "name": "python",
   "nbconvert_exporter": "python",
   "pygments_lexer": "ipython3",
   "version": "3.8.8"
  }
 },
 "nbformat": 4,
 "nbformat_minor": 5
}
